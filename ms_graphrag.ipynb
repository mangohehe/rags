{
  "nbformat": 4,
  "nbformat_minor": 0,
  "metadata": {
    "colab": {
      "provenance": [],
      "machine_shape": "hm",
      "authorship_tag": "ABX9TyOlV3cDik4xQhLhuf/gzMlw",
      "include_colab_link": true
    },
    "kernelspec": {
      "name": "python3",
      "display_name": "Python 3"
    },
    "language_info": {
      "name": "python"
    }
  },
  "cells": [
    {
      "cell_type": "markdown",
      "metadata": {
        "id": "view-in-github",
        "colab_type": "text"
      },
      "source": [
        "<a href=\"https://colab.research.google.com/github/mangohehe/rags/blob/main/ms_graphrag.ipynb\" target=\"_parent\"><img src=\"https://colab.research.google.com/assets/colab-badge.svg\" alt=\"Open In Colab\"/></a>"
      ]
    },
    {
      "cell_type": "markdown",
      "source": [
        "[Run the notebook for MS graphrag tests](https://microsoft.github.io/graphrag/posts/get_started/)"
      ],
      "metadata": {
        "id": "OfZrve4YE7CG"
      }
    },
    {
      "cell_type": "code",
      "source": [
        "# @title Install and Import Dependencies\n",
        "!pip install pyyaml\n",
        "!pip install python-dotenv\n",
        "\n",
        "from dotenv import load_dotenv\n",
        "from dotenv import set_key\n",
        "import os\n",
        "import yaml"
      ],
      "metadata": {
        "id": "3XDn5reYCxy9"
      },
      "execution_count": null,
      "outputs": []
    },
    {
      "cell_type": "code",
      "source": [
        "# @title Install Openai\n",
        "!pip install openai==0.28"
      ],
      "metadata": {
        "id": "uclAQW036I63"
      },
      "execution_count": null,
      "outputs": []
    },
    {
      "cell_type": "code",
      "source": [
        "# @title Specify GraphRag Settings\n",
        "OPENAI_API_KEY = \"\" #@param {type:\"string\"}\n",
        "LLM_MODEL = \"gpt-4o-mini\" #@param {type:\"string\"}\n",
        "TRUSTED_SOURCE_URL = \"https://spindance.com/wp-content/uploads/2021/12/Job-Description-Machine-Learning-Software-Engineer-SpinDance.pdf\" #@param {type:\"string\"}\n"
      ],
      "metadata": {
        "id": "-jPJbVL9BNkE"
      },
      "execution_count": null,
      "outputs": []
    },
    {
      "cell_type": "code",
      "source": [
        "# @title Run to List Available Openai Models\n",
        "import openai\n",
        "import os\n",
        "from IPython.display import display, Markdown, Latex\n",
        "\n",
        "openai.api_key = OPENAI_API_KEY\n",
        "\n",
        "def list_available_models():\n",
        "    try:\n",
        "        models = openai.Model.list()\n",
        "        return [model.id for model in models.data]\n",
        "    except Exception as e:\n",
        "        print(f\"Error: {e}\")\n",
        "        return []\n",
        "\n",
        "available_models = list_available_models()\n",
        "print(\"Available models:\")\n",
        "for model in available_models:\n",
        "    display(Markdown(model))"
      ],
      "metadata": {
        "cellView": "form",
        "id": "CiEVCm6m6LqT"
      },
      "execution_count": null,
      "outputs": []
    },
    {
      "cell_type": "code",
      "execution_count": null,
      "metadata": {
        "cellView": "form",
        "id": "kX5ScJYfEi08"
      },
      "outputs": [],
      "source": [
        "# @title Install GraphRag\n",
        "\n",
        "!pip install graphrag"
      ]
    },
    {
      "cell_type": "code",
      "source": [
        "# @title Specify the trusted source\n",
        "!mkdir -p ./ragtest/input\n",
        "!curl {TRUSTED_SOURCE_URL} > ./ragtest/input/book.txt"
      ],
      "metadata": {
        "id": "9EzCKMqaB__Z"
      },
      "execution_count": null,
      "outputs": []
    },
    {
      "cell_type": "code",
      "source": [
        "!pip install PyPDF2"
      ],
      "metadata": {
        "id": "TwGHtQRhmqCH"
      },
      "execution_count": null,
      "outputs": []
    },
    {
      "cell_type": "code",
      "source": [
        "import PyPDF2\n",
        "import re\n",
        "\n",
        "def pdf_to_text(pdf_path, txt_path):\n",
        "    # Define a function to clean text\n",
        "    def clean_text(text):\n",
        "        # Replace unrecognized symbols with a space or remove them\n",
        "        text = re.sub(r'[^\\x00-\\x7F]+', ' ', text)  # Removes non-ASCII characters\n",
        "        text = re.sub(r'\\s+', ' ', text)  # Replaces multiple whitespace with single space\n",
        "        return text.strip()  # Removes leading and trailing spaces\n",
        "\n",
        "    # Open the PDF file\n",
        "    with open(pdf_path, 'rb') as file:\n",
        "        reader = PyPDF2.PdfReader(file)\n",
        "\n",
        "        # Open the text file for writing\n",
        "        with open(txt_path, 'w', encoding='utf-8') as text_file:\n",
        "            # Iterate through each page of the PDF\n",
        "            for page in reader.pages:\n",
        "                text = page.extract_text()\n",
        "                if text:\n",
        "                    # Clean the extracted text\n",
        "                    cleaned_text = clean_text(text)\n",
        "                    text_file.write(cleaned_text + '\\n')"
      ],
      "metadata": {
        "id": "n7lMiYD6mtjr"
      },
      "execution_count": null,
      "outputs": []
    },
    {
      "cell_type": "code",
      "source": [
        "!wget {TRUSTED_SOURCE_URL} -O ./ragtest/input/book.pdf\n",
        "pdf_to_text('./ragtest/input/book.pdf', './ragtest/input/book.txt')"
      ],
      "metadata": {
        "id": "kHbZ9or3mzKO"
      },
      "execution_count": null,
      "outputs": []
    },
    {
      "cell_type": "code",
      "source": [
        "# @title Running the Indexer\n",
        "\n",
        "# @markdown Initiate workspace variables. For the environment variables available, see [GraphRAG Configuration](https://microsoft.github.io/graphrag/posts/config/overview/)\n",
        "# This will create two files: .env and settings.yaml in the ./ragtest directory.\n",
        "!python -m graphrag.index --init --root ./ragtest\n",
        "\n"
      ],
      "metadata": {
        "id": "mhF-vT7fF-7H"
      },
      "execution_count": null,
      "outputs": []
    },
    {
      "cell_type": "code",
      "source": [
        "# @title Run to Specify GraphRag Env Variables\n",
        "# Update environment variables\n",
        "env_path = './ragtest/.env'\n",
        "set_key(env_path, 'GRAPHRAG_API_KEY', OPENAI_API_KEY)\n",
        "set_key(env_path, 'GRAPHRAG_LLM_MODEL', 'gpt-3.5-turbo')\n",
        "load_dotenv(env_path)\n",
        "\n",
        "print(\"Environment variables updated.\")\n",
        "print(\"GRAPHRAG_API_KEY:\", os.getenv('GRAPHRAG_API_KEY'))\n",
        "print(\"GRAPHRAG_LLM_MODEL:\", os.getenv('GRAPHRAG_LLM_MODEL'))"
      ],
      "metadata": {
        "collapsed": true,
        "id": "UMbAZoc8GCQB"
      },
      "execution_count": null,
      "outputs": []
    },
    {
      "cell_type": "code",
      "source": [
        "!cat {env_path}"
      ],
      "metadata": {
        "collapsed": true,
        "id": "WQCTjQ-PDFxv"
      },
      "execution_count": null,
      "outputs": []
    },
    {
      "cell_type": "code",
      "source": [
        "# @title Running the Indexing pipeline\n",
        "!python -m graphrag.index --root ./ragtest"
      ],
      "metadata": {
        "id": "qkGvnRjPz2qs"
      },
      "execution_count": null,
      "outputs": []
    },
    {
      "cell_type": "code",
      "source": [
        "# @title Running the Query Engine\n",
        "!python -m graphrag.query \\\n",
        "--root ./ragtest \\\n",
        "--method global \\\n",
        "\"What are the top themes in this story?\""
      ],
      "metadata": {
        "cellView": "form",
        "id": "Ffi3OXm22-FH"
      },
      "execution_count": null,
      "outputs": []
    }
  ]
}